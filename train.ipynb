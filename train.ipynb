{
 "cells": [
  {
   "cell_type": "code",
   "execution_count": 16,
   "id": "83c234fc",
   "metadata": {
    "ExecuteTime": {
     "end_time": "2022-12-17T19:12:15.862758Z",
     "start_time": "2022-12-17T19:12:12.813760Z"
    }
   },
   "outputs": [
    {
     "name": "stdout",
     "output_type": "stream",
     "text": [
      "Note: you may need to restart the kernel to use updated packages.\n"
     ]
    },
    {
     "name": "stderr",
     "output_type": "stream",
     "text": [
      "WARNING: Package(s) not found: python\n"
     ]
    }
   ],
   "source": [
    "pip show python"
   ]
  },
  {
   "cell_type": "code",
   "execution_count": 2,
   "id": "54a3c649",
   "metadata": {
    "ExecuteTime": {
     "end_time": "2022-12-17T16:03:43.818171Z",
     "start_time": "2022-12-17T16:03:39.681799Z"
    }
   },
   "outputs": [
    {
     "name": "stdout",
     "output_type": "stream",
     "text": [
      "Name: numpy\n",
      "Version: 1.22.4\n",
      "Summary: NumPy is the fundamental package for array computing with Python.\n",
      "Home-page: https://www.numpy.org\n",
      "Author: Travis E. Oliphant et al.\n",
      "Author-email: \n",
      "License: BSD\n",
      "Location: c:\\users\\amrapali\\anaconda3\\lib\\site-packages\n",
      "Requires: \n",
      "Required-by: scikit-learn, imbalanced-learn, xgboost, wordcloud, tifffile, tensorflow-intel, tensorboard, tables, statsmodels, seaborn, scipy, scikit-image, ray, PyWavelets, pyerfa, patsy, pandasql, pandas, opt-einsum, numexpr, numba, modin, mkl-random, mkl-fft, matplotlib, imageio, imagecodecs, h5py, daal4py, Bottleneck, bokeh, bkcharts, astropy\n",
      "Note: you may need to restart the kernel to use updated packages.\n"
     ]
    }
   ],
   "source": [
    "pip show numpy"
   ]
  },
  {
   "cell_type": "code",
   "execution_count": 3,
   "id": "4a466b79",
   "metadata": {
    "ExecuteTime": {
     "end_time": "2022-12-17T16:10:07.509991Z",
     "start_time": "2022-12-17T16:10:05.308440Z"
    }
   },
   "outputs": [
    {
     "name": "stdout",
     "output_type": "stream",
     "text": [
      "Note: you may need to restart the kernel to use updated packages.\n"
     ]
    },
    {
     "name": "stderr",
     "output_type": "stream",
     "text": [
      "ERROR: Could not find a version that satisfies the requirement snowflake-connector (from versions: none)\n",
      "ERROR: No matching distribution found for snowflake-connector\n"
     ]
    }
   ],
   "source": [
    "pip install snowflake-connector"
   ]
  },
  {
   "cell_type": "code",
   "execution_count": 7,
   "id": "d88b7a59",
   "metadata": {
    "ExecuteTime": {
     "end_time": "2022-12-17T16:13:40.648563Z",
     "start_time": "2022-12-17T16:13:39.465160Z"
    }
   },
   "outputs": [
    {
     "name": "stdout",
     "output_type": "stream",
     "text": [
      "Note: you may need to restart the kernel to use updated packages.\n"
     ]
    },
    {
     "name": "stderr",
     "output_type": "stream",
     "text": [
      "WARNING: Package(s) not found: python_version\n"
     ]
    }
   ],
   "source": [
    "pip show python_version"
   ]
  },
  {
   "cell_type": "code",
   "execution_count": 8,
   "id": "c7178d26",
   "metadata": {
    "ExecuteTime": {
     "end_time": "2022-12-17T16:15:39.658633Z",
     "start_time": "2022-12-17T16:15:39.612238Z"
    }
   },
   "outputs": [
    {
     "name": "stdout",
     "output_type": "stream",
     "text": [
      "Python 3.9.7\n"
     ]
    }
   ],
   "source": [
    "!python -V "
   ]
  },
  {
   "cell_type": "code",
   "execution_count": 9,
   "id": "1746c508",
   "metadata": {
    "ExecuteTime": {
     "end_time": "2022-12-17T16:16:23.416205Z",
     "start_time": "2022-12-17T16:16:21.514951Z"
    }
   },
   "outputs": [
    {
     "name": "stdout",
     "output_type": "stream",
     "text": [
      "Note: you may need to restart the kernel to use updated packages.\n"
     ]
    },
    {
     "name": "stderr",
     "output_type": "stream",
     "text": [
      "ERROR: 404 Client Error: Not Found for url: https://raw.githubusercontent.com/snowflakedb/snowflake-connector-python/v3.9.7/tested_requirements/requirements_36.reqs\n"
     ]
    }
   ],
   "source": [
    "pip install -r https://raw.githubusercontent.com/snowflakedb/snowflake-connector-python/v3.9.7/tested_requirements/requirements_36.reqs"
   ]
  },
  {
   "cell_type": "code",
   "execution_count": null,
   "id": "49bbc7b0",
   "metadata": {
    "ExecuteTime": {
     "end_time": "2022-12-17T17:11:59.144844Z",
     "start_time": "2022-12-17T17:11:59.144844Z"
    }
   },
   "outputs": [],
   "source": [
    "#pip install -r https://raw.githubusercontent.com/snowflakedb/snowflake-connector-python/v2.8.3/tested_requirements/requirements_36.reqs"
   ]
  },
  {
   "cell_type": "code",
   "execution_count": null,
   "id": "a1c2c125",
   "metadata": {
    "ExecuteTime": {
     "end_time": "2022-12-17T17:11:59.147835Z",
     "start_time": "2022-12-17T17:11:59.147835Z"
    }
   },
   "outputs": [],
   "source": [
    "#pip install snowflake-connector-python==2.8.3"
   ]
  },
  {
   "cell_type": "code",
   "execution_count": 32,
   "id": "9f464852",
   "metadata": {
    "ExecuteTime": {
     "end_time": "2022-12-17T20:03:29.920405Z",
     "start_time": "2022-12-17T20:03:29.914443Z"
    }
   },
   "outputs": [],
   "source": [
    "import snowflake.connector\n",
    "import pandas as pd "
   ]
  },
  {
   "cell_type": "code",
   "execution_count": 41,
   "id": "8ad22a6f",
   "metadata": {
    "ExecuteTime": {
     "end_time": "2022-12-17T20:08:08.268364Z",
     "start_time": "2022-12-17T20:08:07.804338Z"
    }
   },
   "outputs": [],
   "source": [
    "ctx = snowflake.connector.connect(\n",
    "        user='amrapali10',\n",
    "        password='@Gargi123',\n",
    "        account='blpvhuy-ys13901',\n",
    "        database='heartdata',\n",
    "        warehouse = 'COMPUTE_WH'\n",
    "        \n",
    "        )\n",
    "cur = ctx.cursor()"
   ]
  },
  {
   "cell_type": "code",
   "execution_count": 42,
   "id": "eb85c2b5",
   "metadata": {
    "ExecuteTime": {
     "end_time": "2022-12-17T20:08:08.861506Z",
     "start_time": "2022-12-17T20:08:08.852535Z"
    }
   },
   "outputs": [
    {
     "data": {
      "text/plain": [
       "<snowflake.connector.cursor.SnowflakeCursor at 0x2ddc5263a60>"
      ]
     },
     "execution_count": 42,
     "metadata": {},
     "output_type": "execute_result"
    }
   ],
   "source": [
    "cur"
   ]
  },
  {
   "cell_type": "code",
   "execution_count": 43,
   "id": "a18f22a7",
   "metadata": {
    "ExecuteTime": {
     "end_time": "2022-12-17T20:08:09.611641Z",
     "start_time": "2022-12-17T20:08:09.526679Z"
    }
   },
   "outputs": [],
   "source": [
    "try:\n",
    "    cur.execute(\"select * from heartdata\")\n",
    "    data = cur.fetchall()\n",
    "finally:\n",
    "    cur.close()\n",
    "  "
   ]
  },
  {
   "cell_type": "code",
   "execution_count": 47,
   "id": "581965f3",
   "metadata": {
    "ExecuteTime": {
     "end_time": "2022-12-17T20:11:32.015400Z",
     "start_time": "2022-12-17T20:11:31.958580Z"
    }
   },
   "outputs": [],
   "source": [
    "df = pd.DataFrame(data, columns = ['ID','biking','smoking','heart_disease']) "
   ]
  },
  {
   "cell_type": "code",
   "execution_count": 48,
   "id": "ff928d72",
   "metadata": {
    "ExecuteTime": {
     "end_time": "2022-12-17T20:11:37.704173Z",
     "start_time": "2022-12-17T20:11:37.641711Z"
    }
   },
   "outputs": [
    {
     "data": {
      "text/html": [
       "<div>\n",
       "<style scoped>\n",
       "    .dataframe tbody tr th:only-of-type {\n",
       "        vertical-align: middle;\n",
       "    }\n",
       "\n",
       "    .dataframe tbody tr th {\n",
       "        vertical-align: top;\n",
       "    }\n",
       "\n",
       "    .dataframe thead th {\n",
       "        text-align: right;\n",
       "    }\n",
       "</style>\n",
       "<table border=\"1\" class=\"dataframe\">\n",
       "  <thead>\n",
       "    <tr style=\"text-align: right;\">\n",
       "      <th></th>\n",
       "      <th>ID</th>\n",
       "      <th>biking</th>\n",
       "      <th>smoking</th>\n",
       "      <th>heart_disease</th>\n",
       "    </tr>\n",
       "  </thead>\n",
       "  <tbody>\n",
       "    <tr>\n",
       "      <th>0</th>\n",
       "      <td>1</td>\n",
       "      <td>30.801246</td>\n",
       "      <td>10.896608</td>\n",
       "      <td>11.769423</td>\n",
       "    </tr>\n",
       "    <tr>\n",
       "      <th>1</th>\n",
       "      <td>2</td>\n",
       "      <td>65.129215</td>\n",
       "      <td>2.219563</td>\n",
       "      <td>2.854081</td>\n",
       "    </tr>\n",
       "    <tr>\n",
       "      <th>2</th>\n",
       "      <td>3</td>\n",
       "      <td>1.959665</td>\n",
       "      <td>17.588331</td>\n",
       "      <td>17.177803</td>\n",
       "    </tr>\n",
       "    <tr>\n",
       "      <th>3</th>\n",
       "      <td>4</td>\n",
       "      <td>44.800196</td>\n",
       "      <td>2.802559</td>\n",
       "      <td>6.816647</td>\n",
       "    </tr>\n",
       "    <tr>\n",
       "      <th>4</th>\n",
       "      <td>5</td>\n",
       "      <td>69.428454</td>\n",
       "      <td>15.974505</td>\n",
       "      <td>4.062224</td>\n",
       "    </tr>\n",
       "  </tbody>\n",
       "</table>\n",
       "</div>"
      ],
      "text/plain": [
       "   ID     biking    smoking  heart_disease\n",
       "0   1  30.801246  10.896608      11.769423\n",
       "1   2  65.129215   2.219563       2.854081\n",
       "2   3   1.959665  17.588331      17.177803\n",
       "3   4  44.800196   2.802559       6.816647\n",
       "4   5  69.428454  15.974505       4.062224"
      ]
     },
     "execution_count": 48,
     "metadata": {},
     "output_type": "execute_result"
    }
   ],
   "source": [
    "df.head()"
   ]
  },
  {
   "cell_type": "code",
   "execution_count": 49,
   "id": "c7d57af9",
   "metadata": {
    "ExecuteTime": {
     "end_time": "2022-12-17T20:13:41.438058Z",
     "start_time": "2022-12-17T20:13:41.383177Z"
    }
   },
   "outputs": [],
   "source": [
    "df = df.set_index('ID')"
   ]
  },
  {
   "cell_type": "code",
   "execution_count": 50,
   "id": "b8b3141f",
   "metadata": {
    "ExecuteTime": {
     "end_time": "2022-12-17T20:13:47.004790Z",
     "start_time": "2022-12-17T20:13:46.986791Z"
    }
   },
   "outputs": [
    {
     "data": {
      "text/html": [
       "<div>\n",
       "<style scoped>\n",
       "    .dataframe tbody tr th:only-of-type {\n",
       "        vertical-align: middle;\n",
       "    }\n",
       "\n",
       "    .dataframe tbody tr th {\n",
       "        vertical-align: top;\n",
       "    }\n",
       "\n",
       "    .dataframe thead th {\n",
       "        text-align: right;\n",
       "    }\n",
       "</style>\n",
       "<table border=\"1\" class=\"dataframe\">\n",
       "  <thead>\n",
       "    <tr style=\"text-align: right;\">\n",
       "      <th></th>\n",
       "      <th>biking</th>\n",
       "      <th>smoking</th>\n",
       "      <th>heart_disease</th>\n",
       "    </tr>\n",
       "    <tr>\n",
       "      <th>ID</th>\n",
       "      <th></th>\n",
       "      <th></th>\n",
       "      <th></th>\n",
       "    </tr>\n",
       "  </thead>\n",
       "  <tbody>\n",
       "    <tr>\n",
       "      <th>1</th>\n",
       "      <td>30.801246</td>\n",
       "      <td>10.896608</td>\n",
       "      <td>11.769423</td>\n",
       "    </tr>\n",
       "    <tr>\n",
       "      <th>2</th>\n",
       "      <td>65.129215</td>\n",
       "      <td>2.219563</td>\n",
       "      <td>2.854081</td>\n",
       "    </tr>\n",
       "    <tr>\n",
       "      <th>3</th>\n",
       "      <td>1.959665</td>\n",
       "      <td>17.588331</td>\n",
       "      <td>17.177803</td>\n",
       "    </tr>\n",
       "    <tr>\n",
       "      <th>4</th>\n",
       "      <td>44.800196</td>\n",
       "      <td>2.802559</td>\n",
       "      <td>6.816647</td>\n",
       "    </tr>\n",
       "    <tr>\n",
       "      <th>5</th>\n",
       "      <td>69.428454</td>\n",
       "      <td>15.974505</td>\n",
       "      <td>4.062224</td>\n",
       "    </tr>\n",
       "  </tbody>\n",
       "</table>\n",
       "</div>"
      ],
      "text/plain": [
       "       biking    smoking  heart_disease\n",
       "ID                                     \n",
       "1   30.801246  10.896608      11.769423\n",
       "2   65.129215   2.219563       2.854081\n",
       "3    1.959665  17.588331      17.177803\n",
       "4   44.800196   2.802559       6.816647\n",
       "5   69.428454  15.974505       4.062224"
      ]
     },
     "execution_count": 50,
     "metadata": {},
     "output_type": "execute_result"
    }
   ],
   "source": [
    "df.head()"
   ]
  },
  {
   "cell_type": "code",
   "execution_count": 51,
   "id": "64aa11e2",
   "metadata": {
    "ExecuteTime": {
     "end_time": "2022-12-17T20:14:38.203442Z",
     "start_time": "2022-12-17T20:14:38.148798Z"
    }
   },
   "outputs": [],
   "source": [
    "x_df = df.drop('heart_disease', axis=1)\n",
    "y_df = df['heart_disease'] "
   ]
  },
  {
   "cell_type": "code",
   "execution_count": 52,
   "id": "f33af82b",
   "metadata": {
    "ExecuteTime": {
     "end_time": "2022-12-17T20:15:01.646689Z",
     "start_time": "2022-12-17T20:14:57.604644Z"
    }
   },
   "outputs": [],
   "source": [
    "from sklearn.model_selection import train_test_split\n",
    "X_train, X_test, y_train, y_test = train_test_split(x_df, y_df, test_size=0.3, random_state=42)"
   ]
  },
  {
   "cell_type": "code",
   "execution_count": 53,
   "id": "1c03fe88",
   "metadata": {
    "ExecuteTime": {
     "end_time": "2022-12-17T20:15:10.963993Z",
     "start_time": "2022-12-17T20:15:10.550979Z"
    }
   },
   "outputs": [],
   "source": [
    "from sklearn import linear_model"
   ]
  },
  {
   "cell_type": "code",
   "execution_count": 54,
   "id": "79a29e72",
   "metadata": {
    "ExecuteTime": {
     "end_time": "2022-12-17T20:15:27.453929Z",
     "start_time": "2022-12-17T20:15:27.446947Z"
    }
   },
   "outputs": [],
   "source": [
    "#Create Linear Regression object\n",
    "model = linear_model.LinearRegression()"
   ]
  },
  {
   "cell_type": "code",
   "execution_count": 55,
   "id": "6ee4a598",
   "metadata": {
    "ExecuteTime": {
     "end_time": "2022-12-17T20:15:46.229822Z",
     "start_time": "2022-12-17T20:15:45.972855Z"
    }
   },
   "outputs": [
    {
     "name": "stdout",
     "output_type": "stream",
     "text": [
      "0.9811067878044412\n"
     ]
    }
   ],
   "source": [
    "model.fit(X_train, y_train) #Indep variables, dep. variable to be predicted\n",
    "print(model.score(X_train, y_train))  #Prints the R^2 value, a measure of how well"
   ]
  },
  {
   "cell_type": "code",
   "execution_count": 56,
   "id": "b7285dfa",
   "metadata": {
    "ExecuteTime": {
     "end_time": "2022-12-17T20:16:01.485094Z",
     "start_time": "2022-12-17T20:16:01.427017Z"
    }
   },
   "outputs": [
    {
     "name": "stdout",
     "output_type": "stream",
     "text": [
      "ID\n",
      "488     6.756015\n",
      "74      9.466026\n",
      "232    14.088654\n",
      "176    13.377430\n",
      "238    16.384678\n",
      "         ...    \n",
      "194    14.547755\n",
      "6       9.550046\n",
      "117    14.411483\n",
      "46     12.328899\n",
      "17      5.443342\n",
      "Name: heart_disease, Length: 150, dtype: float64 [ 5.61417231  9.23854928 15.77064591 13.96271678 16.97258754 13.38551065\n",
      "  7.02565417  9.49069575  6.83117942 12.07219675  8.04307687 10.14595377\n",
      "  5.91159788 10.14538696  7.3415733  17.65460707  4.15655062  6.87547269\n",
      "  5.24683246  6.77480126  2.08250582  7.39533445 12.03453847 13.99326278\n",
      " 12.09739539 13.60433903  6.19490735  9.56118094 13.94750676 11.82223539\n",
      "  8.52602497 11.48105163 12.41957267 17.7284097   3.53706181  6.09047121\n",
      "  8.17208463  7.50053942 12.56170624 10.47015413  4.88309485  4.00779535\n",
      "  7.798394   10.9073288  10.77541879  8.85290916 17.03995211  7.50903037\n",
      " 18.06939528  4.58997823  1.73224979  5.01082459  6.82467948 15.23572133\n",
      "  9.30772808  6.34302188  8.37575419 10.34808915 13.74750805  3.50515222\n",
      "  7.30319722  6.67918277 13.68672805  5.98409459 11.88992446 11.2611266\n",
      " 16.15963246  4.59155683 17.40458716 10.07739852  3.84790636  4.47678232\n",
      " 18.23592729 14.77297764  3.09380249 10.50714899 14.9438448   6.52284407\n",
      " 11.10330647  9.54314845 19.07493124  6.51997394 15.34548828  6.73771088\n",
      " 10.74993573  4.03833576 14.39755333 14.66693446 15.10546801 11.13588696\n",
      "  9.20158575 13.93870896 15.23139605 13.28680078  8.06763541 13.18771267\n",
      "  4.07205206  6.43321419  5.4707717   8.82176308 14.77928692  6.7358693\n",
      "  4.90871914  8.11213744  3.16422463 12.1229944  12.68489005 13.99915629\n",
      "  9.30514588 11.93065002  6.6841604  10.20574558  4.84461827 13.69749958\n",
      "  8.12662086  4.1377571   9.81200257 12.83629015 12.76902617 10.85633624\n",
      " 10.39521164 16.16879088 11.06957331 14.87316014  9.12635119 14.29116408\n",
      "  7.68893469 15.25177223 12.22295615  9.46242167 17.19919742 10.26524183\n",
      "  2.37112902 11.93435558  9.23845034 14.98243344 12.88351981 11.20920703\n",
      " 14.17171635  5.68563589  8.38651065  4.33491477 15.48035729  5.077729\n",
      " 15.90509518 14.14083575  9.31196788 13.80943537 11.92530329  5.64716739]\n",
      "Mean sq. errror between y_test and predicted = 0.00029034215656136117\n"
     ]
    }
   ],
   "source": [
    "prediction_test = model.predict(X_test)    \n",
    "print(y_test, prediction_test)\n",
    "print(\"Mean sq. errror between y_test and predicted =\", np.mean(prediction_test-y_test)**2)"
   ]
  },
  {
   "cell_type": "code",
   "execution_count": 57,
   "id": "e9ff9335",
   "metadata": {
    "ExecuteTime": {
     "end_time": "2022-12-17T20:16:24.010726Z",
     "start_time": "2022-12-17T20:16:23.958693Z"
    }
   },
   "outputs": [],
   "source": [
    "import pickle # its used for seriealizing.\n",
    "pickle.dump(model, open('model.pkl','wb'))"
   ]
  },
  {
   "cell_type": "code",
   "execution_count": 58,
   "id": "d65736c6",
   "metadata": {
    "ExecuteTime": {
     "end_time": "2022-12-17T20:16:47.277319Z",
     "start_time": "2022-12-17T20:16:47.240870Z"
    }
   },
   "outputs": [
    {
     "name": "stdout",
     "output_type": "stream",
     "text": [
      "[2.80758523]\n"
     ]
    },
    {
     "name": "stderr",
     "output_type": "stream",
     "text": [
      "C:\\Users\\AMRAPALI\\AppData\\Roaming\\Python\\Python39\\site-packages\\sklearn\\base.py:450: UserWarning: X does not have valid feature names, but LinearRegression was fitted with feature names\n",
      "  warnings.warn(\n"
     ]
    }
   ],
   "source": [
    "model = pickle.load(open('model.pkl','rb'))\n",
    "print(model.predict([[70.1, 10.3]]))"
   ]
  },
  {
   "cell_type": "code",
   "execution_count": null,
   "id": "0b43d973",
   "metadata": {},
   "outputs": [],
   "source": []
  }
 ],
 "metadata": {
  "kernelspec": {
   "display_name": "Python 3 (ipykernel)",
   "language": "python",
   "name": "python3"
  },
  "language_info": {
   "codemirror_mode": {
    "name": "ipython",
    "version": 3
   },
   "file_extension": ".py",
   "mimetype": "text/x-python",
   "name": "python",
   "nbconvert_exporter": "python",
   "pygments_lexer": "ipython3",
   "version": "3.9.7"
  },
  "varInspector": {
   "cols": {
    "lenName": 16,
    "lenType": 16,
    "lenVar": 40
   },
   "kernels_config": {
    "python": {
     "delete_cmd_postfix": "",
     "delete_cmd_prefix": "del ",
     "library": "var_list.py",
     "varRefreshCmd": "print(var_dic_list())"
    },
    "r": {
     "delete_cmd_postfix": ") ",
     "delete_cmd_prefix": "rm(",
     "library": "var_list.r",
     "varRefreshCmd": "cat(var_dic_list()) "
    }
   },
   "types_to_exclude": [
    "module",
    "function",
    "builtin_function_or_method",
    "instance",
    "_Feature"
   ],
   "window_display": false
  }
 },
 "nbformat": 4,
 "nbformat_minor": 5
}
